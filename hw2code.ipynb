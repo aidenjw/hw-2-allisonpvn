{
 "cells": [
  {
   "cell_type": "code",
   "execution_count": 7,
   "id": "ef30b4af-4606-4fb2-abf4-37118e53cdb7",
   "metadata": {},
   "outputs": [],
   "source": [
    "import numpy as np\n",
    "import pandas as pd\n",
    "import matplotlib.pyplot as plt \n",
    "import seaborn as sns \n",
    "from scipy import signal\n",
    "from scipy.io import wavfile\n",
    "import os\n",
    "import requests"
   ]
  },
  {
   "cell_type": "code",
   "execution_count": 8,
   "id": "fa6e990c-3a3d-465d-bbf2-ecd9ccf63edb",
   "metadata": {},
   "outputs": [
    {
     "name": "stdout",
     "output_type": "stream",
     "text": [
      "file downloaded: H-H1_LOSC_4_V1-1167559920-32.hdf5\n",
      "file downloaded: L-L1_LOSC_4_V1-1167559920-32.hdf5\n",
      "file downloaded: GW150914_4_template.hdf5\n",
      "file downloaded: GW151226_4_template.hdf5\n",
      "file downloaded: readligo.py\n",
      "file downloaded: LOSC_Event_tutorial.ipynb\n",
      "\n",
      "Downloaded files:\n",
      " - data/H-H1_LOSC_4_V1-1167559920-32.hdf5\n",
      " - data/L-L1_LOSC_4_V1-1167559920-32.hdf5\n",
      " - data/GW150914_4_template.hdf5\n",
      " - data/GW151226_4_template.hdf5\n",
      " - data/readligo.py\n",
      " - data/LOSC_Event_tutorial.ipynb\n"
     ]
    }
   ],
   "source": [
    "BASE_URL = (\"https://raw.githubusercontent.com/\"\n",
    "            \"gwosc-tutorial/LOSC_Event_tutorial/master/\")\n",
    "FILES = [\n",
    "    \"H-H1_LOSC_4_V1-1167559920-32.hdf5\",\n",
    "    \"L-L1_LOSC_4_V1-1167559920-32.hdf5\",\n",
    "    \"GW150914_4_template.hdf5\",\n",
    "    \"GW151226_4_template.hdf5\",\n",
    "    \"readligo.py\",\n",
    "    \"LOSC_Event_tutorial.ipynb\"\n",
    "]\n",
    "\n",
    "DATA_DIR = \"data\"\n",
    "os.makedirs(DATA_DIR, exist_ok=True)\n",
    "\n",
    "def download_file(filename, dest_folder=DATA_DIR):\n",
    "    url = BASE_URL + filename\n",
    "    dest_path = os.path.join(dest_folder, filename)\n",
    "    if os.path.exists(dest_path):\n",
    "        return dest_path\n",
    "    resp = requests.get(url)\n",
    "    resp.raise_for_status()\n",
    "\n",
    "    with open(dest_path, \"wb\") as f:\n",
    "        f.write(resp.content)\n",
    "        \n",
    "    print(f\"file downloaded: {filename}\")\n",
    "    return dest_path\n",
    "\n",
    "downloaded = []\n",
    "for fname in FILES:\n",
    "    try:\n",
    "        path = download_file(fname)\n",
    "        downloaded.append(path)\n",
    "    except Exception as e:\n",
    "        print(f\"download failed on {fname}: {e}\")\n",
    "\n",
    "print(\"\\nDownloaded files:\")\n",
    "for p in downloaded:\n",
    "    print(\" -\", p)\n",
    "\n"
   ]
  },
  {
   "cell_type": "code",
   "execution_count": null,
   "id": "621ed0d9-e2ad-469c-b64a-b40e4c89f2f5",
   "metadata": {},
   "outputs": [],
   "source": []
  }
 ],
 "metadata": {
  "kernelspec": {
   "display_name": "Python 3 (ipykernel)",
   "language": "python",
   "name": "python3"
  },
  "language_info": {
   "codemirror_mode": {
    "name": "ipython",
    "version": 3
   },
   "file_extension": ".py",
   "mimetype": "text/x-python",
   "name": "python",
   "nbconvert_exporter": "python",
   "pygments_lexer": "ipython3",
   "version": "3.12.0"
  }
 },
 "nbformat": 4,
 "nbformat_minor": 5
}
